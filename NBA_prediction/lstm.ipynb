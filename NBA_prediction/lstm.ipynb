{
 "cells": [
  {
   "cell_type": "code",
   "execution_count": 1,
   "metadata": {},
   "outputs": [],
   "source": [
    "import torch\n",
    "import torch.nn as nn\n",
    "import torch.nn.functional as F\n",
    "import torch.optim as optim\n",
    "import game_dataset\n",
    "from vae_model import NBA_AE\n",
    "import matplotlib.pyplot as plt\n",
    "import matplotlib.animation as animation\n",
    "import matplotlib\n",
    "import numpy as np\n",
    "import importlib"
   ]
  },
  {
   "cell_type": "code",
   "execution_count": 4,
   "metadata": {},
   "outputs": [],
   "source": [
    "class LSTMPredict(nn.Module):\n",
    "    \n",
    "    def __init__(self, state_dim, hidden_dim, sizes, num_layers = 1,):\n",
    "        super(LSTMPredict, self).__init__()\n",
    "        self.hidden_dim = hidden_dim\n",
    "        self.state_dim = state_dim\n",
    "        self.num_layers = num_layers\n",
    "        \n",
    "        self.lstm = nn.LSTM(state_dim, hidden_dim, num_layers)\n",
    "        self.h2d = nn.Linear(hidden_dim, state_dim)\n",
    "        self.hidden = self.init_hidden()\n",
    "        \n",
    "    def init_hidden(self):\n",
    "        return (torch.zeros(self.num_layers, 1, self.hidden_dim),\n",
    "                torch.zeros(self.num_layers, 1, self.hidden_dim))\n",
    "    \n",
    "    def forward(self, state):\n",
    "        out, self.hidden = self.lstm(state, self.hidden)\n",
    "        delta = self.h2d(out)\n",
    "        next_state = torch.add(delta, state)\n",
    "        return next_state"
   ]
  },
  {
   "cell_type": "code",
   "execution_count": 3,
   "metadata": {},
   "outputs": [
    {
     "name": "stdout",
     "output_type": "stream",
     "text": [
      "available games:  24\n",
      "number of loaded events:  4715\n"
     ]
    }
   ],
   "source": [
    "# LOAD TRAINING DATA\n",
    "importlib.reload(game_dataset)\n",
    "X = game_dataset.GameDataset('../data/unzipped/',0,20)\n",
    "# FIND EVENT INDICES\n",
    "changeidx = [0]\n",
    "for i in range(len(X)-1):\n",
    "    a = X[i][1]-X[i+1][0]\n",
    "    if a[0] != 0.:\n",
    "        changeidx.append(i + 1)\n",
    "print('number of loaded events: ', len(changeidx))"
   ]
  },
  {
   "cell_type": "markdown",
   "metadata": {},
   "source": [
    "New variables:\n",
    "\n",
    "            X:  stores all loaded game data in a list. All events are concatenated together. \n",
    "                As demonstrated below, each element in the list is composed of a tuple of two arrays. \n",
    "                The first array is the initial state, the second array is the next state. \n",
    "                X[0] = (s1,s2), X[1] = (s2,s3)\n",
    "                    ** A BIT REDUNDANT, MAY WANT TO CHANGE IN THE FUTURE FOR MEMORY EFFICIENCY\n",
    "                    \n",
    "                Each state is composed of 23 doubles indicating the coordinates of the players in feet, \n",
    "                representing the xy coordinates of all 10 players on the court, and xyz coordinates for the ball. \n",
    "                The court dimensions are 94x 50y feet. \n",
    "                [home1x, home1y, home2x ..... away1x, away2y, ..... ballx, bally, ballz]\n",
    "                    \n",
    "                    \n",
    "    changeidx:  stores the indices of X at which a new event begins. If we have X[n] = (s40, t1) and X[n+1] = (t1, \n",
    "                t2), where s and t are different events, then n+1 is appended"
   ]
  },
  {
   "cell_type": "code",
   "execution_count": 5,
   "metadata": {
    "scrolled": true
   },
   "outputs": [],
   "source": [
    "# CREATE LSTM INSTANCE\n",
    "model = LSTMPredict(state_dim = 23, hidden_dim = 64, num_layers = 5, sizes = (128, 128))\n",
    "loss_function = nn.MSELoss() # set loss function\n",
    "optimizer = optim.Adadelta(model.parameters(), weight_decay = 0)"
   ]
  },
  {
   "cell_type": "code",
   "execution_count": null,
   "metadata": {
    "scrolled": true
   },
   "outputs": [
    {
     "name": "stdout",
     "output_type": "stream",
     "text": [
      "finished event 0!\n",
      "finished event 500!\n",
      "finished event 1000!\n",
      "finished event 1500!\n",
      "finished event 2000!\n",
      "finished event 2500!\n",
      "finished event 3000!\n",
      "finished event 3500!\n",
      "finished event 4000!\n",
      "finished event 4500!\n",
      "finished event 0!\n",
      "finished event 500!\n"
     ]
    }
   ],
   "source": [
    "# TRAIN\n",
    "for epoch in range(5):\n",
    "    event_num = 0\n",
    "    for idx1, idx2 in zip(changeidx[:-1], changeidx[1:]): # loops through events (idx1 is the start of one event idx2 is the start of the next)\n",
    "        # Construct data for each event\n",
    "        inputs = [] \n",
    "        targets = []\n",
    "        for i in range(idx1, idx2): # using range doesn't include idx2 itself which is good since X[idx2][1] is not the same event\n",
    "            inputs.append(X[i][0])\n",
    "            targets.append(X[i][1])\n",
    "        inputs = torch.tensor(np.expand_dims(inputs, 1)).float()\n",
    "        targets = torch.tensor(np.expand_dims(targets, 1)).float()\n",
    "        \n",
    "        # Overhead\n",
    "        model.zero_grad() # clear out gradients\n",
    "        model.hidden = model.init_hidden() # reinitialize hidden state for each new event\n",
    "        \n",
    "        # Forward pass\n",
    "        outputs = model(inputs) # outputs of LSTM. LSTM is fed pure inputs s.t. outputs are never fed back into LSTM for >1 timestep prediction\n",
    "        \n",
    "        # Compute loss and update parameters\n",
    "        loss = loss_function(outputs, targets)\n",
    "        loss.backward()\n",
    "        optimizer.step()\n",
    "        \n",
    "        if event_num % 500 == 0:\n",
    "            print('finished event {}!'.format(event_num))\n",
    "        event_num += 1\n",
    "print('done!')"
   ]
  },
  {
   "cell_type": "code",
   "execution_count": null,
   "metadata": {},
   "outputs": [],
   "source": [
    "# TRAIN ON SMALL INTERVALS\n",
    "interval = 5\n",
    "\n",
    "for epoch in range(5):\n",
    "    event_num = 0\n",
    "    for idx1, idx2 in zip(changeidx[:-1], changeidx[1:]): # loops events\n",
    "        changeid = []\n",
    "        i = 0\n",
    "        # changeid filled with the indices of states every 'interval' timesteps from the start of the event, dividing the event into subevents\n",
    "        while i < (idx2 - idx1):\n",
    "            if i % interval == 0:\n",
    "                changeid.append(idx1 + i)\n",
    "            i += 1\n",
    "        \n",
    "        for id1, id2 in zip(changeid[:-1], changeid[1:]): # loops through each subevent as if it were an event\n",
    "            # Construct data for each event\n",
    "            inputs = [] \n",
    "            targets = []\n",
    "            for i in range(id1, id2):\n",
    "                inputs.append(X[i][0])\n",
    "                targets.append(X[i][1])\n",
    "            inputs = torch.tensor(np.expand_dims(inputs, 1)).float()\n",
    "            targets = torch.tensor(np.expand_dims(targets, 1)).float()\n",
    "\n",
    "            # Overhead\n",
    "            model.zero_grad() # clear out gradients\n",
    "            model.hidden = model.init_hidden() # reinitialize hidden state for each new event\n",
    "\n",
    "            # Forward pass\n",
    "            outputs = model(inputs) # compute outputs and train on the last element. PROBLEM: THIS DOESN\"T FEED OUTPUTS BACK INTO INPUT. NOT PREDICTING MULTIPLE STEPS FORWARD\n",
    "\n",
    "            # Compute loss and update parameters\n",
    "            loss = loss_function(outputs[-1], targets[-1])\n",
    "            loss.backward()\n",
    "            optimizer.step()\n",
    "        \n",
    "        if event_num % 500 == 0:\n",
    "            print('finished event {}!'.format(event_num))\n",
    "        event_num += 1\n",
    "print('done!')"
   ]
  },
  {
   "cell_type": "markdown",
   "metadata": {},
   "source": [
    "PROBLEM: MODEL REQUIRES THE CORRECT ARCHITECTURE TO RELOAD"
   ]
  },
  {
   "cell_type": "code",
   "execution_count": null,
   "metadata": {},
   "outputs": [],
   "source": [
    "# SAVE MODEL\n",
    "torch.save(model.state_dict(), \"./models/model4\")"
   ]
  },
  {
   "cell_type": "code",
   "execution_count": null,
   "metadata": {},
   "outputs": [],
   "source": [
    "# LOAD MODEL\n",
    "model.load_state_dict(torch.load(\"./models/model4\"))"
   ]
  },
  {
   "cell_type": "code",
   "execution_count": null,
   "metadata": {},
   "outputs": [],
   "source": [
    "# LOAD EVALUATION DATA\n",
    "importlib.reload(game_dataset)\n",
    "Y = game_dataset.GameDataset('../data/unzipped/',20,23)\n",
    "# FIND EVENT INDICES\n",
    "changeidy = [0]\n",
    "for i in range(len(Y)-1):\n",
    "    a = Y[i][1]-Y[i+1][0]\n",
    "    if a[0] != 0.:\n",
    "        changeidy.append(i + 1)\n",
    "print('number of loaded events: ', len(changeidy))"
   ]
  },
  {
   "cell_type": "code",
   "execution_count": null,
   "metadata": {
    "scrolled": false
   },
   "outputs": [],
   "source": [
    "# how much initial observation of each entity do we get?\n",
    "horizon = [150,150,150] # [home, away, ball] must be at least 1\n",
    "plotTrajectory(getPredictHorizon(horizon, event = 200), horizon, speed = 1, delay = 1, savename = 'home')"
   ]
  },
  {
   "cell_type": "code",
   "execution_count": null,
   "metadata": {},
   "outputs": [],
   "source": [
    "# how much initial observation of each entity do we get?\n",
    "horizon = [10000,100,10000] # [home, away, ball] must be at least 1\n",
    "plotTrajectory(getPredictHorizon(horizon, event = 10), horizon, speed = 1, delay = 1, savename = 'away')"
   ]
  },
  {
   "cell_type": "code",
   "execution_count": null,
   "metadata": {
    "scrolled": false
   },
   "outputs": [],
   "source": [
    "# how much initial observation of each entity do we get?\n",
    "horizon = [10000,10000,250] # [home, away, ball] must be at least 1\n",
    "plotTrajectory(getPredictHorizon(horizon, event = 16), horizon, speed = 1, delay = 1, savename = 'ball')"
   ]
  },
  {
   "cell_type": "code",
   "execution_count": null,
   "metadata": {},
   "outputs": [],
   "source": [
    "# PLOTTING FUNCTIONS\n",
    "\n",
    "%matplotlib notebook\n",
    "\n",
    "def getTrajectory(event, dataset = 'train'):\n",
    "    if dataset == 'train':\n",
    "        idx1, idx2 = changeidx[event], changeidx[event+1]\n",
    "        steps = idx2 - idx1\n",
    "        print('event {} length: {}'.format(event, steps))\n",
    "        trajectory = X[idx1:idx2][0]\n",
    "        return trajectory\n",
    "    elif dataset == 'eval':\n",
    "        idy1, idy2 = changeidy[event], changeidy[event+1]\n",
    "        steps = idy2 - idy1\n",
    "        print('event {} length: {}'.format(event, steps))\n",
    "        trajectory = Y[idy1:idy2][0]\n",
    "        return trajectory\n",
    "    \n",
    "def plotTrajectory(trajectories, horizon, speed=1., delay = 0.2, savename = None):\n",
    "    %matplotlib notebook\n",
    "    fig = plt.figure(figsize = (94/10,50/10))\n",
    "    frames = []\n",
    "    trans = plt.axes().transAxes\n",
    "    backdrop = plt.imread('../court.png')\n",
    "       \n",
    "    # if real trajectory is not given, do not show\n",
    "    if len(trajectories[1]) == 0:\n",
    "        trajectories[1] = -np.ones((len(trajectories[0]),23))\n",
    "        \n",
    "    for _, (cord1, cord2) in enumerate(zip(trajectories[0], trajectories[1])):\n",
    "        coords1 = [[[],[]],[[],[]]]\n",
    "        coords2 = [[[],[]],[[],[]]]\n",
    "        for n, t in enumerate([0,10]): # team\n",
    "            for d in [0,1]: # dimension\n",
    "                for p in range(0,5):\n",
    "                    coords1[n][d].append(cord1[2*p + d + t]) \n",
    "                    coords2[n][d].append(cord2[2*p + d + t]) \n",
    "        height1 = (10 + cord1[22])\n",
    "        height2 = (10 + cord2[22])\n",
    "        frame = []\n",
    "        # prediction\n",
    "        home1, = plt.plot(coords1[0][0], coords1[0][1], color = '#00a4ff', marker = 'D', linestyle = '', markersize = 10)\n",
    "        away1, = plt.plot(coords1[1][0], coords1[1][1], color = '#ff00f3', marker = 'D', linestyle = '', markersize = 10)\n",
    "        ball1, = plt.plot(cord1[20], cord1[21], color = '#ff8600', marker = 'o', linestyle = '', markersize= height1)\n",
    "        frame.extend([home1, away1, ball1])\n",
    "        # real (faded)\n",
    "        home2, = plt.plot(coords2[0][0], coords2[0][1], color = '#00a4ff', marker = 'D', linestyle = '', markersize = 10, alpha = 0.3)\n",
    "        away2, = plt.plot(coords2[1][0], coords2[1][1], color = '#ff00f3', marker = 'D', linestyle = '', markersize = 10, alpha = 0.3)\n",
    "        ball2, = plt.plot(cord2[20], cord2[21], color = '#ff8600', marker = 'o', linestyle = '', markersize= height1, alpha = 0.3)\n",
    "        frame.extend([home2, away2, ball2])\n",
    "        # horizon marker\n",
    "        if _ > horizon[0]:\n",
    "            h, = plt.plot([91], [47], color = 'white', marker = '$H$', linestyle = '', markersize = 20)\n",
    "            frame.append(h)\n",
    "        if _ > horizon[1]:\n",
    "            a, = plt.plot([86.3], [47], color = 'white', marker = '$A$', linestyle = '', markersize = 20)\n",
    "            frame.append(a)\n",
    "        if _ > horizon[2]:\n",
    "            b, = plt.plot([82], [47], color = 'white', marker = '$B$', linestyle = '', markersize = 20)\n",
    "            frame.append(b)\n",
    "        t, = plt.plot([10], [2], color = 'white', marker = '$tsteps: '+str(_)+'$', linestyle = '', markersize = 60)\n",
    "        frame.append(t)\n",
    "        # save frame\n",
    "        frames.append(frame)\n",
    "\n",
    "    plt.xlim(0,94)\n",
    "    plt.ylim(0,50)\n",
    "    plt.axes().set_aspect('equal')\n",
    "    ani = animation.ArtistAnimation(fig, frames, interval=10 / speed, blit = True, repeat_delay = delay)\n",
    "    plt.imshow(backdrop,extent = (0,94,0,50))\n",
    "    if savename != None:\n",
    "        savename = savename + '.mp4'\n",
    "        ani.save(savename, fps = 30, bitrate = 1000)\n",
    "    return ani\n",
    "\n",
    "def getPredictHorizon(horizon, event, dataset = 'evaluation'):\n",
    "    if dataset == 'evaluation':\n",
    "        Z = Y\n",
    "        changeid = changeidy\n",
    "    elif dataset == 'test':\n",
    "        Z = X\n",
    "        changeid = changeidx\n",
    "    else:\n",
    "        print(\"not a dataset\")\n",
    "        \n",
    "    id1, id2 = changeid[event], changeid[event+1]\n",
    "    steps = id2 - id1\n",
    "    print('event {} length: {}'.format(event, steps))\n",
    "    \n",
    "    model.hidden = model.init_hidden() # initialize hidden state\n",
    "    pred_trajectory = []\n",
    "    real_trajectory = []\n",
    "    for n, i in enumerate(range(id1, id2)):\n",
    "        # get observation\n",
    "        observation = Z[i][0]\n",
    "        # replace observation with predictions \n",
    "        observation[0:10]  = observation[0:10]  if n < horizon[0] else prediction[0:10]\n",
    "        observation[10:20] = observation[10:20] if n < horizon[1] else prediction[10:20]\n",
    "        observation[20:23] = observation[20:23] if n < horizon[2] else prediction[20:23]\n",
    "        # overhead\n",
    "        observation = torch.tensor(np.expand_dims([observation], 1)).float()\n",
    "        # predict\n",
    "        prediction = model(observation)\n",
    "        prediction = prediction.detach().numpy().flatten()\n",
    "        # save prediction and target\n",
    "        pred_trajectory.append(prediction)\n",
    "        real_trajectory.append(Z[i][1])\n",
    "        \n",
    "    return pred_trajectory, real_trajectory"
   ]
  }
 ],
 "metadata": {
  "kernelspec": {
   "display_name": "Python 3",
   "language": "python",
   "name": "python3"
  },
  "language_info": {
   "codemirror_mode": {
    "name": "ipython",
    "version": 3
   },
   "file_extension": ".py",
   "mimetype": "text/x-python",
   "name": "python",
   "nbconvert_exporter": "python",
   "pygments_lexer": "ipython3",
   "version": "3.5.2"
  }
 },
 "nbformat": 4,
 "nbformat_minor": 2
}
